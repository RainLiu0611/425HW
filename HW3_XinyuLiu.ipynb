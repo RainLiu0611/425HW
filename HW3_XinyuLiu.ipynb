{
 "cells": [
  {
   "cell_type": "code",
   "execution_count": 1,
   "id": "ef834d53",
   "metadata": {},
   "outputs": [],
   "source": [
    "import numpy as np\n",
    "import matplotlib.pyplot as plt\n",
    "from sklearn.linear_model import LinearRegression\n",
    "from sklearn.metrics import mean_squared_error\n",
    "import pandas as pd\n",
    "import statsmodels.api as sm\n",
    "import math\n",
    "from sklearn.linear_model import LogisticRegression\n",
    "from sklearn.metrics import confusion_matrix\n",
    "import warnings\n",
    "warnings.filterwarnings(\"ignore\")"
   ]
  },
  {
   "cell_type": "code",
   "execution_count": 2,
   "id": "82c2a72b",
   "metadata": {},
   "outputs": [],
   "source": [
    "#problem1"
   ]
  },
  {
   "cell_type": "code",
   "execution_count": 3,
   "id": "07f83631",
   "metadata": {},
   "outputs": [],
   "source": [
    "#3 Plot the function 𝑓 over 𝑥 ∈ [−2.5, 2.5]. How many local/global minima do you see? What\n",
    "#are their approximate values? Can there be other local minima?"
   ]
  },
  {
   "cell_type": "code",
   "execution_count": 4,
   "id": "db17a000",
   "metadata": {},
   "outputs": [
    {
     "data": {
      "text/plain": [
       "<matplotlib.legend.Legend at 0x16ad66310>"
      ]
     },
     "execution_count": 4,
     "metadata": {},
     "output_type": "execute_result"
    },
    {
     "data": {
      "image/png": "[encoded data removed]",
      "text/plain": [
       "<Figure size 640x480 with 1 Axes>"
      ]
     },
     "metadata": {},
     "output_type": "display_data"
    }
   ],
   "source": [
    "from scipy.optimize import minimize\n",
    "#define the function f\n",
    "def f(x):\n",
    "    return x**4 - 6*x**2 + 4*x + 18\n",
    "#generate X,Y values\n",
    "x_values = np.linspace(-2.5, 2.5, 1000)\n",
    "y_values = f(x_values)\n",
    "\n",
    "# Plot the function\n",
    "plt.plot(x_values, y_values, label='f(x) = x^4 - 6x^2 + 4x + 18')\n",
    "plt.xlabel('x')\n",
    "plt.ylabel('f(x)')\n",
    "plt.title('Plot of the function')\n",
    "plt.grid(True)\n",
    "plt.legend()"
   ]
  },
  {
   "cell_type": "code",
   "execution_count": 5,
   "id": "5cabba7d",
   "metadata": {},
   "outputs": [],
   "source": [
    "#According to the plot, we can notice two local/global minimas. Their approximate values are -1.8 and 1.6. As for x \n",
    "#in the range of [-2.5,2.5], there are no other local minimas. However, there are maybe more minimas outside of the range."
   ]
  },
  {
   "cell_type": "code",
   "execution_count": 6,
   "id": "35bddcf1",
   "metadata": {},
   "outputs": [],
   "source": [
    "#4 Write your own code for 𝑆 steps of GD on this function (do not use built-in or third-party\n",
    "#GD codes)."
   ]
  },
  {
   "cell_type": "code",
   "execution_count": 7,
   "id": "5182fdf2",
   "metadata": {},
   "outputs": [],
   "source": [
    "# Define the gradient of f(x)\n",
    "def gradient_f(x):\n",
    "    return 4*x**3 - 12*x + 4\n",
    "\n",
    "# define the gradient descent function\n",
    "def gradient_descent(initial_x, learning_rate, num_steps):\n",
    "    x_values = [initial_x]\n",
    "    for _ in range(num_steps):\n",
    "        current_x = x_values[-1]\n",
    "        gradient = gradient_f(current_x)\n",
    "        new_x = current_x - learning_rate * gradient\n",
    "        x_values.append(new_x)\n",
    "    return x_values\n",
    "\n",
    "# Set parameters\n",
    "initial_x = 0.0\n",
    "learning_rate = 0.1\n",
    "num_steps = 20\n",
    "\n",
    "# Run Gradient Descent\n",
    "trajectory = gradient_descent(initial_x, learning_rate, num_steps)"
   ]
  },
  {
   "cell_type": "code",
   "execution_count": 8,
   "id": "ca563140",
   "metadata": {},
   "outputs": [],
   "source": [
    "#5 Repeat (i) and (ii) using your code with 𝑆 = 20 steps. Do you observe convergence in both\n",
    "#cases?"
   ]
  },
  {
   "cell_type": "code",
   "execution_count": 9,
   "id": "9b407b1d",
   "metadata": {},
   "outputs": [
    {
     "data": {
      "text/plain": [
       "[1,\n",
       " 1.4,\n",
       " 1.5823999999999998,\n",
       " 1.4963546415104,\n",
       " 1.5517987790722083,\n",
       " 1.5192154133381854,\n",
       " 1.5397248375543011,\n",
       " 1.5272719930151006,\n",
       " 1.5350171190625246,\n",
       " 1.5302671077620147,\n",
       " 1.5332063790044113,\n",
       " 1.5313973698196879,\n",
       " 1.5325145038473287,\n",
       " 1.5318260511057153,\n",
       " 1.5322508642835628,\n",
       " 1.5319889371285826,\n",
       " 1.5321505120475563,\n",
       " 1.5320508711908891,\n",
       " 1.532112329575238,\n",
       " 1.5320744264173558,\n",
       " 1.5320978040292623]"
      ]
     },
     "execution_count": 9,
     "metadata": {},
     "output_type": "execute_result"
    }
   ],
   "source": [
    "#for case(i)\n",
    "initial_x = 1\n",
    "learning_rate = 0.1\n",
    "num_steps = 20\n",
    "\n",
    "trajectory = gradient_descent(initial_x, learning_rate, num_steps)\n",
    "trajectory"
   ]
  },
  {
   "cell_type": "code",
   "execution_count": 10,
   "id": "103e6d5b",
   "metadata": {},
   "outputs": [],
   "source": [
    "#in case(i), we can notice that using the gradient descent method, the x values gradually converge to 1.53, which is\n",
    "#one of the local minima. "
   ]
  },
  {
   "cell_type": "code",
   "execution_count": 11,
   "id": "1af79730",
   "metadata": {},
   "outputs": [
    {
     "data": {
      "text/plain": [
       "[0,\n",
       " -0.4,\n",
       " -1.2544,\n",
       " -2.3701509259264,\n",
       " -0.28849348925106977,\n",
       " -1.0250813249728175,\n",
       " -2.2243201263455896,\n",
       " -0.8914857533491816,\n",
       " -2.077866460212338,\n",
       " -1.3828067104246002,\n",
       " -2.384518789546544,\n",
       " -0.22265870431016221,\n",
       " -0.8854336582795075,\n",
       " -2.070284616055942,\n",
       " -1.405265292488476,\n",
       " -2.3815530420008457,\n",
       " -0.2363445410729268,\n",
       " -0.9146772268543001,\n",
       " -2.1061897151968125,\n",
       " -1.2963647580668578,\n",
       " -2.380554142228462]"
      ]
     },
     "execution_count": 11,
     "metadata": {},
     "output_type": "execute_result"
    }
   ],
   "source": [
    "#for case(ii)\n",
    "initial_x = 0\n",
    "learning_rate = 0.1\n",
    "num_steps = 20\n",
    "\n",
    "trajectory = gradient_descent(initial_x, learning_rate, num_steps)\n",
    "trajectory"
   ]
  },
  {
   "cell_type": "code",
   "execution_count": 12,
   "id": "48e7cdb4",
   "metadata": {},
   "outputs": [],
   "source": [
    "#in case(ii), x values fluctuated, so we cannot observe the covergence in x values. "
   ]
  },
  {
   "cell_type": "code",
   "execution_count": 13,
   "id": "526444de",
   "metadata": {},
   "outputs": [],
   "source": [
    "#5 Now set the learning rate to 𝛼 = 0.01 and repeat (v). Explain why GD performs differently\n",
    "#from (v)."
   ]
  },
  {
   "cell_type": "code",
   "execution_count": 14,
   "id": "420d6d07",
   "metadata": {},
   "outputs": [
    {
     "data": {
      "text/plain": [
       "[1,\n",
       " 1.04,\n",
       " 1.0798054400000001,\n",
       " 1.119020840068549,\n",
       " 1.1572534830439267,\n",
       " 1.1941304973887767,\n",
       " 1.229315454262303,\n",
       " 1.262522837530415,\n",
       " 1.2935289442241535,\n",
       " 1.3221782260494936,\n",
       " 1.3483847002782723,\n",
       " 1.372128707840095,\n",
       " 1.3934498428239785,\n",
       " 1.4124372242060033,\n",
       " 1.4292183920198969,\n",
       " 1.4439480114680723,\n",
       " 1.4567973253950453,\n",
       " 1.4679449872507762,\n",
       " 1.4775696023631308,\n",
       " 1.4858440513255176,\n",
       " 1.4929314867366945]"
      ]
     },
     "execution_count": 14,
     "metadata": {},
     "output_type": "execute_result"
    }
   ],
   "source": [
    "#for case(i)\n",
    "initial_x = 1\n",
    "learning_rate = 0.01\n",
    "num_steps = 20\n",
    "\n",
    "trajectory = gradient_descent(initial_x, learning_rate, num_steps)\n",
    "trajectory"
   ]
  },
  {
   "cell_type": "code",
   "execution_count": 15,
   "id": "f4d5530f",
   "metadata": {},
   "outputs": [
    {
     "data": {
      "text/plain": [
       "[0,\n",
       " -0.04,\n",
       " -0.08479744,\n",
       " -0.1349487430013408,\n",
       " -0.1910442892180012,\n",
       " -0.2536906951534041,\n",
       " -0.3234804877103682,\n",
       " -0.40094419114643426,\n",
       " -0.4864793227884729,\n",
       " -0.5802515921846035,\n",
       " -0.6820671425672264,\n",
       " -0.791222869032004,\n",
       " -0.9063563283704102,\n",
       " -1.025336878870371,\n",
       " -1.1452591933707572,\n",
       " -1.2626045652651865,\n",
       " -1.3736048457479124,\n",
       " -1.4747692568020896,\n",
       " -1.5634399244753172,\n",
       " -1.6381892906071331,\n",
       " -1.6989180105534625]"
      ]
     },
     "execution_count": 15,
     "metadata": {},
     "output_type": "execute_result"
    }
   ],
   "source": [
    "#for case(ii)\n",
    "initial_x = 0\n",
    "learning_rate = 0.01\n",
    "num_steps = 20\n",
    "\n",
    "trajectory = gradient_descent(initial_x, learning_rate, num_steps)\n",
    "trajectory"
   ]
  },
  {
   "cell_type": "code",
   "execution_count": 16,
   "id": "3ea00489",
   "metadata": {},
   "outputs": [],
   "source": [
    "#in both cases, we can notice that there is a trend of convergence, but in the first 20 steps, the x has not converged \n",
    "#to a certain value. This is because we set the learning rate alpha from 0.1 to 0.01, which makes each step much smaller.\n",
    "#For case(i), it will take more steps to converge. And for case(ii), smaller step makes it possible to observe the convergence. "
   ]
  },
  {
   "cell_type": "code",
   "execution_count": 17,
   "id": "bbb21892",
   "metadata": {},
   "outputs": [],
   "source": [
    "#problem2"
   ]
  },
  {
   "cell_type": "code",
   "execution_count": 18,
   "id": "d6474bf1",
   "metadata": {},
   "outputs": [],
   "source": [
    "data = pd.read_csv(\"College.csv\")\n",
    "data.dropna(inplace=True)"
   ]
  },
  {
   "cell_type": "code",
   "execution_count": 19,
   "id": "447b11d2",
   "metadata": {},
   "outputs": [
    {
     "data": {
      "text/html": [
       "<div>\n",
       "<style scoped>\n",
       "    .dataframe tbody tr th:only-of-type {\n",
       "        vertical-align: middle;\n",
       "    }\n",
       "\n",
       "    .dataframe tbody tr th {\n",
       "        vertical-align: top;\n",
       "    }\n",
       "\n",
       "    .dataframe thead th {\n",
       "        text-align: right;\n",
       "    }\n",
       "</style>\n",
       "<table border=\"1\" class=\"dataframe\">\n",
       "  <thead>\n",
       "    <tr style=\"text-align: right;\">\n",
       "      <th></th>\n",
       "      <th>Private</th>\n",
       "      <th>Apps</th>\n",
       "      <th>Accept</th>\n",
       "      <th>Enroll</th>\n",
       "      <th>Top10perc</th>\n",
       "      <th>Top25perc</th>\n",
       "      <th>F.Undergrad</th>\n",
       "      <th>P.Undergrad</th>\n",
       "      <th>Outstate</th>\n",
       "      <th>Room.Board</th>\n",
       "      <th>Books</th>\n",
       "      <th>Personal</th>\n",
       "      <th>PhD</th>\n",
       "      <th>Terminal</th>\n",
       "      <th>S.F.Ratio</th>\n",
       "      <th>perc.alumni</th>\n",
       "      <th>Expend</th>\n",
       "      <th>Grad.Rate</th>\n",
       "    </tr>\n",
       "  </thead>\n",
       "  <tbody>\n",
       "    <tr>\n",
       "      <th>0</th>\n",
       "      <td>Yes</td>\n",
       "      <td>1660</td>\n",
       "      <td>1232</td>\n",
       "      <td>721</td>\n",
       "      <td>23</td>\n",
       "      <td>52</td>\n",
       "      <td>2885</td>\n",
       "      <td>537</td>\n",
       "      <td>7440</td>\n",
       "      <td>3300</td>\n",
       "      <td>450</td>\n",
       "      <td>2200</td>\n",
       "      <td>70</td>\n",
       "      <td>78</td>\n",
       "      <td>18.1</td>\n",
       "      <td>12</td>\n",
       "      <td>7041</td>\n",
       "      <td>60</td>\n",
       "    </tr>\n",
       "    <tr>\n",
       "      <th>1</th>\n",
       "      <td>Yes</td>\n",
       "      <td>2186</td>\n",
       "      <td>1924</td>\n",
       "      <td>512</td>\n",
       "      <td>16</td>\n",
       "      <td>29</td>\n",
       "      <td>2683</td>\n",
       "      <td>1227</td>\n",
       "      <td>12280</td>\n",
       "      <td>6450</td>\n",
       "      <td>750</td>\n",
       "      <td>1500</td>\n",
       "      <td>29</td>\n",
       "      <td>30</td>\n",
       "      <td>12.2</td>\n",
       "      <td>16</td>\n",
       "      <td>10527</td>\n",
       "      <td>56</td>\n",
       "    </tr>\n",
       "    <tr>\n",
       "      <th>2</th>\n",
       "      <td>Yes</td>\n",
       "      <td>1428</td>\n",
       "      <td>1097</td>\n",
       "      <td>336</td>\n",
       "      <td>22</td>\n",
       "      <td>50</td>\n",
       "      <td>1036</td>\n",
       "      <td>99</td>\n",
       "      <td>11250</td>\n",
       "      <td>3750</td>\n",
       "      <td>400</td>\n",
       "      <td>1165</td>\n",
       "      <td>53</td>\n",
       "      <td>66</td>\n",
       "      <td>12.9</td>\n",
       "      <td>30</td>\n",
       "      <td>8735</td>\n",
       "      <td>54</td>\n",
       "    </tr>\n",
       "    <tr>\n",
       "      <th>3</th>\n",
       "      <td>Yes</td>\n",
       "      <td>417</td>\n",
       "      <td>349</td>\n",
       "      <td>137</td>\n",
       "      <td>60</td>\n",
       "      <td>89</td>\n",
       "      <td>510</td>\n",
       "      <td>63</td>\n",
       "      <td>12960</td>\n",
       "      <td>5450</td>\n",
       "      <td>450</td>\n",
       "      <td>875</td>\n",
       "      <td>92</td>\n",
       "      <td>97</td>\n",
       "      <td>7.7</td>\n",
       "      <td>37</td>\n",
       "      <td>19016</td>\n",
       "      <td>59</td>\n",
       "    </tr>\n",
       "    <tr>\n",
       "      <th>4</th>\n",
       "      <td>Yes</td>\n",
       "      <td>193</td>\n",
       "      <td>146</td>\n",
       "      <td>55</td>\n",
       "      <td>16</td>\n",
       "      <td>44</td>\n",
       "      <td>249</td>\n",
       "      <td>869</td>\n",
       "      <td>7560</td>\n",
       "      <td>4120</td>\n",
       "      <td>800</td>\n",
       "      <td>1500</td>\n",
       "      <td>76</td>\n",
       "      <td>72</td>\n",
       "      <td>11.9</td>\n",
       "      <td>2</td>\n",
       "      <td>10922</td>\n",
       "      <td>15</td>\n",
       "    </tr>\n",
       "  </tbody>\n",
       "</table>\n",
       "</div>"
      ],
      "text/plain": [
       "  Private  Apps  Accept  Enroll  Top10perc  Top25perc  F.Undergrad  \\\n",
       "0     Yes  1660    1232     721         23         52         2885   \n",
       "1     Yes  2186    1924     512         16         29         2683   \n",
       "2     Yes  1428    1097     336         22         50         1036   \n",
       "3     Yes   417     349     137         60         89          510   \n",
       "4     Yes   193     146      55         16         44          249   \n",
       "\n",
       "   P.Undergrad  Outstate  Room.Board  Books  Personal  PhD  Terminal  \\\n",
       "0          537      7440        3300    450      2200   70        78   \n",
       "1         1227     12280        6450    750      1500   29        30   \n",
       "2           99     11250        3750    400      1165   53        66   \n",
       "3           63     12960        5450    450       875   92        97   \n",
       "4          869      7560        4120    800      1500   76        72   \n",
       "\n",
       "   S.F.Ratio  perc.alumni  Expend  Grad.Rate  \n",
       "0       18.1           12    7041         60  \n",
       "1       12.2           16   10527         56  \n",
       "2       12.9           30    8735         54  \n",
       "3        7.7           37   19016         59  \n",
       "4       11.9            2   10922         15  "
      ]
     },
     "execution_count": 19,
     "metadata": {},
     "output_type": "execute_result"
    }
   ],
   "source": [
    "data.head()"
   ]
  },
  {
   "cell_type": "code",
   "execution_count": 20,
   "id": "7582219c",
   "metadata": {},
   "outputs": [
    {
     "data": {
      "text/plain": [
       "777"
      ]
     },
     "execution_count": 20,
     "metadata": {},
     "output_type": "execute_result"
    }
   ],
   "source": [
    "len(data)"
   ]
  },
  {
   "cell_type": "code",
   "execution_count": 21,
   "id": "54f6af56",
   "metadata": {},
   "outputs": [],
   "source": [
    "#1 Let the first 600 observations be the training set and the remaining 177 observations be the\n",
    "#test set."
   ]
  },
  {
   "cell_type": "code",
   "execution_count": 22,
   "id": "61c62d78",
   "metadata": {},
   "outputs": [],
   "source": [
    "#Change the column Private to dummy variables\n",
    "data = pd.get_dummies(data, columns=['Private'], drop_first=True)"
   ]
  },
  {
   "cell_type": "code",
   "execution_count": 23,
   "id": "af187fef",
   "metadata": {},
   "outputs": [
    {
     "data": {
      "text/html": [
       "<div>\n",
       "<style scoped>\n",
       "    .dataframe tbody tr th:only-of-type {\n",
       "        vertical-align: middle;\n",
       "    }\n",
       "\n",
       "    .dataframe tbody tr th {\n",
       "        vertical-align: top;\n",
       "    }\n",
       "\n",
       "    .dataframe thead th {\n",
       "        text-align: right;\n",
       "    }\n",
       "</style>\n",
       "<table border=\"1\" class=\"dataframe\">\n",
       "  <thead>\n",
       "    <tr style=\"text-align: right;\">\n",
       "      <th></th>\n",
       "      <th>Apps</th>\n",
       "      <th>Accept</th>\n",
       "      <th>Enroll</th>\n",
       "      <th>Top10perc</th>\n",
       "      <th>Top25perc</th>\n",
       "      <th>F.Undergrad</th>\n",
       "      <th>P.Undergrad</th>\n",
       "      <th>Outstate</th>\n",
       "      <th>Room.Board</th>\n",
       "      <th>Books</th>\n",
       "      <th>Personal</th>\n",
       "      <th>PhD</th>\n",
       "      <th>Terminal</th>\n",
       "      <th>S.F.Ratio</th>\n",
       "      <th>perc.alumni</th>\n",
       "      <th>Expend</th>\n",
       "      <th>Grad.Rate</th>\n",
       "      <th>Private_Yes</th>\n",
       "    </tr>\n",
       "  </thead>\n",
       "  <tbody>\n",
       "    <tr>\n",
       "      <th>0</th>\n",
       "      <td>1660</td>\n",
       "      <td>1232</td>\n",
       "      <td>721</td>\n",
       "      <td>23</td>\n",
       "      <td>52</td>\n",
       "      <td>2885</td>\n",
       "      <td>537</td>\n",
       "      <td>7440</td>\n",
       "      <td>3300</td>\n",
       "      <td>450</td>\n",
       "      <td>2200</td>\n",
       "      <td>70</td>\n",
       "      <td>78</td>\n",
       "      <td>18.1</td>\n",
       "      <td>12</td>\n",
       "      <td>7041</td>\n",
       "      <td>60</td>\n",
       "      <td>True</td>\n",
       "    </tr>\n",
       "    <tr>\n",
       "      <th>1</th>\n",
       "      <td>2186</td>\n",
       "      <td>1924</td>\n",
       "      <td>512</td>\n",
       "      <td>16</td>\n",
       "      <td>29</td>\n",
       "      <td>2683</td>\n",
       "      <td>1227</td>\n",
       "      <td>12280</td>\n",
       "      <td>6450</td>\n",
       "      <td>750</td>\n",
       "      <td>1500</td>\n",
       "      <td>29</td>\n",
       "      <td>30</td>\n",
       "      <td>12.2</td>\n",
       "      <td>16</td>\n",
       "      <td>10527</td>\n",
       "      <td>56</td>\n",
       "      <td>True</td>\n",
       "    </tr>\n",
       "    <tr>\n",
       "      <th>2</th>\n",
       "      <td>1428</td>\n",
       "      <td>1097</td>\n",
       "      <td>336</td>\n",
       "      <td>22</td>\n",
       "      <td>50</td>\n",
       "      <td>1036</td>\n",
       "      <td>99</td>\n",
       "      <td>11250</td>\n",
       "      <td>3750</td>\n",
       "      <td>400</td>\n",
       "      <td>1165</td>\n",
       "      <td>53</td>\n",
       "      <td>66</td>\n",
       "      <td>12.9</td>\n",
       "      <td>30</td>\n",
       "      <td>8735</td>\n",
       "      <td>54</td>\n",
       "      <td>True</td>\n",
       "    </tr>\n",
       "    <tr>\n",
       "      <th>3</th>\n",
       "      <td>417</td>\n",
       "      <td>349</td>\n",
       "      <td>137</td>\n",
       "      <td>60</td>\n",
       "      <td>89</td>\n",
       "      <td>510</td>\n",
       "      <td>63</td>\n",
       "      <td>12960</td>\n",
       "      <td>5450</td>\n",
       "      <td>450</td>\n",
       "      <td>875</td>\n",
       "      <td>92</td>\n",
       "      <td>97</td>\n",
       "      <td>7.7</td>\n",
       "      <td>37</td>\n",
       "      <td>19016</td>\n",
       "      <td>59</td>\n",
       "      <td>True</td>\n",
       "    </tr>\n",
       "    <tr>\n",
       "      <th>4</th>\n",
       "      <td>193</td>\n",
       "      <td>146</td>\n",
       "      <td>55</td>\n",
       "      <td>16</td>\n",
       "      <td>44</td>\n",
       "      <td>249</td>\n",
       "      <td>869</td>\n",
       "      <td>7560</td>\n",
       "      <td>4120</td>\n",
       "      <td>800</td>\n",
       "      <td>1500</td>\n",
       "      <td>76</td>\n",
       "      <td>72</td>\n",
       "      <td>11.9</td>\n",
       "      <td>2</td>\n",
       "      <td>10922</td>\n",
       "      <td>15</td>\n",
       "      <td>True</td>\n",
       "    </tr>\n",
       "  </tbody>\n",
       "</table>\n",
       "</div>"
      ],
      "text/plain": [
       "   Apps  Accept  Enroll  Top10perc  Top25perc  F.Undergrad  P.Undergrad  \\\n",
       "0  1660    1232     721         23         52         2885          537   \n",
       "1  2186    1924     512         16         29         2683         1227   \n",
       "2  1428    1097     336         22         50         1036           99   \n",
       "3   417     349     137         60         89          510           63   \n",
       "4   193     146      55         16         44          249          869   \n",
       "\n",
       "   Outstate  Room.Board  Books  Personal  PhD  Terminal  S.F.Ratio  \\\n",
       "0      7440        3300    450      2200   70        78       18.1   \n",
       "1     12280        6450    750      1500   29        30       12.2   \n",
       "2     11250        3750    400      1165   53        66       12.9   \n",
       "3     12960        5450    450       875   92        97        7.7   \n",
       "4      7560        4120    800      1500   76        72       11.9   \n",
       "\n",
       "   perc.alumni  Expend  Grad.Rate  Private_Yes  \n",
       "0           12    7041         60         True  \n",
       "1           16   10527         56         True  \n",
       "2           30    8735         54         True  \n",
       "3           37   19016         59         True  \n",
       "4            2   10922         15         True  "
      ]
     },
     "execution_count": 23,
     "metadata": {},
     "output_type": "execute_result"
    }
   ],
   "source": [
    "data.head()"
   ]
  },
  {
   "cell_type": "code",
   "execution_count": 24,
   "id": "83f08072",
   "metadata": {},
   "outputs": [],
   "source": [
    "data_train = data[:600]\n",
    "data_test = data[600:]"
   ]
  },
  {
   "cell_type": "code",
   "execution_count": 25,
   "id": "89b08835",
   "metadata": {},
   "outputs": [
    {
     "data": {
      "text/plain": [
       "600"
      ]
     },
     "execution_count": 25,
     "metadata": {},
     "output_type": "execute_result"
    }
   ],
   "source": [
    "len(data_train)"
   ]
  },
  {
   "cell_type": "code",
   "execution_count": 26,
   "id": "42c3d630",
   "metadata": {},
   "outputs": [
    {
     "data": {
      "text/plain": [
       "177"
      ]
     },
     "execution_count": 26,
     "metadata": {},
     "output_type": "execute_result"
    }
   ],
   "source": [
    "len(data_test)"
   ]
  },
  {
   "cell_type": "code",
   "execution_count": 27,
   "id": "84f8e719",
   "metadata": {},
   "outputs": [],
   "source": [
    "#2 Fit the OLS regression on the training set, and report the test error obtained"
   ]
  },
  {
   "cell_type": "code",
   "execution_count": 31,
   "id": "57f235ea",
   "metadata": {
    "scrolled": true
   },
   "outputs": [
    {
     "data": {
      "text/plain": [
       "Index(['Apps', 'Accept', 'Enroll', 'Top10perc', 'Top25perc', 'F.Undergrad',\n",
       "       'P.Undergrad', 'Outstate', 'Room.Board', 'Books', 'Personal', 'PhD',\n",
       "       'Terminal', 'S.F.Ratio', 'perc.alumni', 'Expend', 'Grad.Rate',\n",
       "       'Private_Yes'],\n",
       "      dtype='object')"
      ]
     },
     "execution_count": 31,
     "metadata": {},
     "output_type": "execute_result"
    }
   ],
   "source": [
    "data.columns"
   ]
  },
  {
   "cell_type": "code",
   "execution_count": 33,
   "id": "79ec6000",
   "metadata": {},
   "outputs": [
    {
     "name": "stdout",
     "output_type": "stream",
     "text": [
      "Test Error (Mean Squared Error): 1502077.435\n"
     ]
    }
   ],
   "source": [
    "# Extract features (X) and target variable (Y) for training set and the testing set\n",
    "X_train = data_train.drop('Apps', axis=1)\n",
    "Y_train = data_train['Apps']\n",
    "X_test = data_test.drop('Apps', axis=1)\n",
    "Y_test = data_test['Apps']\n",
    "# Fit OLS regression on the training set\n",
    "ols_model = LinearRegression()\n",
    "ols_model.fit(X_train, Y_train)\n",
    "\n",
    "# Predict on the test set\n",
    "test_predictions = ols_model.predict(X_test)\n",
    "\n",
    "# Calculate the mean squared error on the test set\n",
    "test_error = mean_squared_error(Y_test, test_predictions)\n",
    "\n",
    "# Report the test error\n",
    "print(f\"Test Error (Mean Squared Error): {test_error:.3f}\")\n"
   ]
  },
  {
   "cell_type": "code",
   "execution_count": 34,
   "id": "6d46f2c4",
   "metadata": {},
   "outputs": [],
   "source": [
    "#3 Fit the LASSO regression on the training set, with the penalization parameter chosen by\n",
    "#20-fold cross-validation. Report the test error obtained."
   ]
  },
  {
   "cell_type": "code",
   "execution_count": 35,
   "id": "c4ddd8b9",
   "metadata": {},
   "outputs": [
    {
     "name": "stdout",
     "output_type": "stream",
     "text": [
      "Lasso Test Error (Mean Squared Error): 1502373.778 with alpha=4.079\n"
     ]
    }
   ],
   "source": [
    "from sklearn.linear_model import LassoCV\n",
    "# Lasso Regression with cross-validated alpha\n",
    "lasso_model = LassoCV(alphas=np.logspace(0.01, 60, 1000), cv=20)\n",
    "lasso_model.fit(X_train, Y_train)\n",
    "\n",
    "# Find the best alpha\n",
    "best_alpha_lasso = lasso_model.alpha_\n",
    "\n",
    "# Predict on the test set for Lasso\n",
    "lasso_test_predictions = lasso_model.predict(X_test)\n",
    "\n",
    "# Calculate the mean squared error on the test set\n",
    "lasso_test_error = mean_squared_error(Y_test, lasso_test_predictions)\n",
    "\n",
    "# Report the test error and the chosen alpha\n",
    "print(f\"Lasso Test Error (Mean Squared Error): {lasso_test_error:.3f} with alpha={best_alpha_lasso:.3f}\")\n"
   ]
  },
  {
   "cell_type": "code",
   "execution_count": 36,
   "id": "726edd1f",
   "metadata": {},
   "outputs": [],
   "source": [
    "#4 Fit the ridge regression on the training set, with the penalization parameter chosen by leaveone-\n",
    "#out cross-validation. Report the test error obtained"
   ]
  },
  {
   "cell_type": "code",
   "execution_count": 37,
   "id": "70134645",
   "metadata": {},
   "outputs": [
    {
     "name": "stdout",
     "output_type": "stream",
     "text": [
      "Ridge Test Error (Mean Squared Error): 1504869.277 with alpha=24.612\n"
     ]
    }
   ],
   "source": [
    "from sklearn.linear_model import RidgeCV\n",
    "# Ridge Regression with leave-one-out cross-validated alpha\n",
    "ridge_model = RidgeCV(alphas=np.logspace(0.01, 60, 1000), store_cv_values=True)\n",
    "#RidgeCV is used with store_cv_values=True to perform LOOCV.\n",
    "ridge_model.fit(X_train, Y_train)\n",
    "\n",
    "# Find the best alpha\n",
    "best_alpha_ridge = ridge_model.alpha_\n",
    "\n",
    "# Predict on the test set for Ridge\n",
    "ridge_test_predictions = ridge_model.predict(X_test)\n",
    "\n",
    "# Calculate the mean squared error on the test set\n",
    "ridge_test_error = mean_squared_error(Y_test, ridge_test_predictions)\n",
    "\n",
    "# Report the test error and the chosen alpha\n",
    "print(f\"Ridge Test Error (Mean Squared Error): {ridge_test_error:.3f} with alpha={best_alpha_ridge:.3f}\")\n"
   ]
  },
  {
   "cell_type": "code",
   "execution_count": 38,
   "id": "bc392593",
   "metadata": {},
   "outputs": [],
   "source": [
    "#5 Which of the three models do you prefer? Is there much difference among the test errors?"
   ]
  },
  {
   "cell_type": "code",
   "execution_count": 39,
   "id": "66469081",
   "metadata": {},
   "outputs": [],
   "source": [
    "#In this case, OLS model is better, because it has the smallest MSE. Also, there is not much difference among the test errors.\n",
    "# This may arise from the underlying relationship in the data which is close to linear, OLS might capture it well.\n",
    "#Or If all the features in  dataset are important for prediction, and there is no need for regularization, OLS might be more suitable."
   ]
  },
  {
   "cell_type": "code",
   "execution_count": null,
   "id": "2bbc525b",
   "metadata": {},
   "outputs": [],
   "source": []
  }
 ],
 "metadata": {
  "kernelspec": {
   "display_name": "Python 3 (ipykernel)",
   "language": "python",
   "name": "python3"
  },
  "language_info": {
   "codemirror_mode": {
    "name": "ipython",
    "version": 3
   },
   "file_extension": ".py",
   "mimetype": "text/x-python",
   "name": "python",
   "nbconvert_exporter": "python",
   "pygments_lexer": "ipython3",
   "version": "3.11.5"
  }
 },
 "nbformat": 4,
 "nbformat_minor": 5
}
