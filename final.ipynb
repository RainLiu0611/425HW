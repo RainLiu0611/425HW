{
  "nbformat": 4,
  "nbformat_minor": 0,
  "metadata": {
    "colab": {
      "provenance": [],
      "authorship_tag": "ABX9TyPWeLNViMzWxh9bG9zZXRU9",
      "include_colab_link": true
    },
    "kernelspec": {
      "name": "python3",
      "display_name": "Python 3"
    },
    "language_info": {
      "name": "python"
    }
  },
  "cells": [
    {
      "cell_type": "markdown",
      "metadata": {
        "id": "view-in-github",
        "colab_type": "text"
      },
      "source": [
        "<a href=\"https://colab.research.google.com/github/RainLiu0611/425HW/blob/main/final.ipynb\" target=\"_parent\"><img src=\"https://colab.research.google.com/assets/colab-badge.svg\" alt=\"Open In Colab\"/></a>"
      ]
    },
    {
      "cell_type": "code",
      "execution_count": null,
      "metadata": {
        "id": "NQgnlA4YDPx-"
      },
      "outputs": [],
      "source": [
        "import numpy as np\n",
        "import matplotlib.pyplot as plt\n",
        "from sklearn.model_selection import train_test_split\n",
        "from sklearn.linear_model import LinearRegression\n",
        "from sklearn.metrics import mean_squared_error\n",
        "import pandas as pd\n",
        "import statsmodels.api as sm\n",
        "import math\n",
        "from sklearn.preprocessing import PolynomialFeatures\n",
        "import warnings\n",
        "warnings.filterwarnings(\"ignore\")"
      ]
    },
    {
      "cell_type": "code",
      "source": [
        "#problem3"
      ],
      "metadata": {
        "id": "7rMu05zrHAv6"
      },
      "execution_count": null,
      "outputs": []
    },
    {
      "cell_type": "code",
      "source": [
        "# Monte Carlo Simulation\n",
        "# Iterate over different numbers of features (p)\n",
        "        for j, p in enumerate(p_values):\n",
        "            poly = PolynomialFeatures(degree=p)\n",
        "            x_in_poly = poly.fit_transform(X_train.reshape(-1, 1))[:, 1:]\n",
        "            x_out_poly = poly.transform(X_test.reshape(-1, 1))[:, 1:]\n",
        "\n",
        "            # Fit the linear regression\n",
        "            model = sm.OLS(y_train, x_in_poly).fit()\n",
        "\n",
        "            # Predict\n",
        "            y_train_pred = model.predict(x_in_poly)\n",
        "            y_test_pred = model.predict(x_out_poly)\n",
        "\n",
        "            # Calculate the MSE and store it\n",
        "            train_mse_sigma[j] += mean_squared_error(y_train, y_train_pred)\n",
        "            test_mse_sigma[j] += mean_squared_error(y_test, y_test_pred)"
      ],
      "metadata": {
        "id": "u1Ryi-FoHLfH"
      },
      "execution_count": null,
      "outputs": []
    },
    {
      "cell_type": "code",
      "source": [
        "# Split into training and test set\n",
        "        X_train, X_test, y_train, y_test = train_test_split(X, y, test_size=0.3, random_state=42)"
      ],
      "metadata": {
        "id": "M983a36eDzp6"
      },
      "execution_count": null,
      "outputs": []
    },
    {
      "cell_type": "code",
      "source": [
        "# Setting the seed for reproducibility\n",
        "np.random.seed(50)\n",
        "# Generate synthetic data\n",
        "n = 100  # Number of data points\n",
        "x = np.random.normal(0, 1, n)  # Independent N(0, 1) random variables\n",
        "epsilon = np.random.normal(0, 1, n)  # Independent N(0, 1) random variables\n",
        "y = x - 2 * x**2 + epsilon\n",
        "# Leave-One-Out Cross-Validation\n",
        "# Fit polynomial regression model\n",
        "poly_features = PolynomialFeatures(degree=degree)\n",
        "x_train_poly = poly_features.fit_transform(x_train.reshape(-1, 1))\n",
        "x_val_poly = poly_features.transform(x_val.reshape(-1, 1))\n",
        "model = LinearRegression()\n",
        "model.fit(x_train_poly, y_train)\n",
        "# Predict and calculate MSE for the validation point\n",
        "y_pred = model.predict(x_val_poly)\n",
        "mse = mean_squared_error(y_val, y_pred)\n",
        "mse_sum += mse"
      ],
      "metadata": {
        "id": "0AZ4uxbZH9ce"
      },
      "execution_count": null,
      "outputs": []
    }
  ]
}